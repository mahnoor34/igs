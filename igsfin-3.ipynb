{
 "cells": [
  {
   "cell_type": "code",
   "execution_count": null,
   "id": "47398617",
   "metadata": {},
   "outputs": [],
   "source": [
    "import geopandas as gpd\n",
    "import pandas as pd\n",
    "import numpy as np\n",
    "import seaborn as sns\n",
    "import statsmodels.api as sm      \n",
    "from scipy import stats           \n",
    "from sklearn import linear_model  \n",
    "from sklearn import model_selection\n",
    "from libpysal import weights\n",
    "from libpysal import cg as geometry\n",
    "\n",
    "from shapely.geometry import Polygon\n",
    "from shapely.wkt import loads  \n",
    "\n",
    "import matplotlib.pyplot as plt\n",
    "import palettable.colorbrewer.sequential as pcs  \n",
    "import seaborn as sns\n",
    "\n",
    "import os\n",
    "import urllib\n",
    "import zipfile\n",
    "import re\n",
    "import pysal as ps\n",
    "from pysal.model.spreg import OLS\n",
    "from pysal.model.spreg import ML_Error\n",
    "from pysal.model.spreg import ML_Lag\n",
    "\n",
    "import libpysal as lps\n",
    "from libpysal.weights import Queen, Rook\n",
    "import pysal.viz as viz\n",
    "%matplotlib inline\n",
    "import warnings\n",
    "warnings.simplefilter('ignore')\n"
   ]
  },
  {
   "cell_type": "code",
   "execution_count": null,
   "id": "87c854ea",
   "metadata": {},
   "outputs": [],
   "source": [
    "imd_df = pd.read_csv(\"/Users/mahnoorshahzad/Documents/a3_year/ASDS/IMD_ward.csv\")"
   ]
  },
  {
   "cell_type": "code",
   "execution_count": null,
   "id": "a2eacddd",
   "metadata": {},
   "outputs": [],
   "source": [
    "newestcrime = pd.read_csv(\"/Users/mahnoorshahzad/Documents/a3_year/newestcrime.csv\")"
   ]
  },
  {
   "cell_type": "code",
   "execution_count": null,
   "id": "4fbe37e6",
   "metadata": {},
   "outputs": [],
   "source": [
    "lsoa_df = pd.read_csv(\"/Users/mahnoorshahzad/Documents/a3_year/ASDS/LSOA_Data.csv\")"
   ]
  },
  {
   "cell_type": "code",
   "execution_count": null,
   "id": "b251bf5d",
   "metadata": {},
   "outputs": [],
   "source": [
    "newpopden = pd.read_csv(\"/Users/mahnoorshahzad/Documents/a3_year/newpopden.csv\")"
   ]
  },
  {
   "cell_type": "code",
   "execution_count": null,
   "id": "c12c2250",
   "metadata": {},
   "outputs": [],
   "source": [
    "newestcrime = newestcrime.rename(columns={'avg_2020.1': 'avg_2021'})"
   ]
  },
  {
   "cell_type": "code",
   "execution_count": null,
   "id": "8d052ca0",
   "metadata": {},
   "outputs": [],
   "source": [
    "lsoa_df.columns"
   ]
  },
  {
   "cell_type": "code",
   "execution_count": null,
   "id": "e46dab2a",
   "metadata": {},
   "outputs": [],
   "source": [
    "newpopden.head()"
   ]
  },
  {
   "cell_type": "code",
   "execution_count": null,
   "id": "0b6c4dc2",
   "metadata": {},
   "outputs": [],
   "source": [
    "newpopden.columns"
   ]
  },
  {
   "cell_type": "code",
   "execution_count": null,
   "id": "ddcf6072",
   "metadata": {},
   "outputs": [],
   "source": [
    "newpopden = newpopden.drop(columns= ['Unnamed: 5',\n",
    "       'Unnamed: 6'])"
   ]
  },
  {
   "cell_type": "code",
   "execution_count": null,
   "id": "41604f9b",
   "metadata": {},
   "outputs": [],
   "source": [
    "lsoa_df = lsoa_df.drop(columns= [\n",
    "       'RGN11CD', 'RGN11NM', 'USUALRES', 'HHOLDRES', 'COMESTRES', 'POPDEN',\n",
    "       'HHOLDS', \n",
    "       'Owned', 'SharedOwnshp', 'SocialRented', 'PrivateRented', 'RentFree',\n",
    "       'ORroomsM1', 'ORbedsM1', 'RoomsHH', 'BedsHH', 'White', 'MultiEthnic',\n",
    "       'Asian', 'Black', 'OtherEthnic', 'MedianIncome', 'SumPrice',\n",
    "       'MeanPrice', 'MedianPrice', 'EntireHome', 'PrivateRoom', 'SharedRoom',\n",
    "       'SmallHost', 'MultiHost', 'PropertyCount', 'Area'])"
   ]
  },
  {
   "cell_type": "code",
   "execution_count": null,
   "id": "dcf23012",
   "metadata": {},
   "outputs": [],
   "source": [
    "new_lsoa = pd.merge(lsoa_df, newpopden, on='LSOA11CD', left_index=False)"
   ]
  },
  {
   "cell_type": "code",
   "execution_count": null,
   "id": "d7e4d68b",
   "metadata": {},
   "outputs": [],
   "source": [
    "new_lsoa.head()"
   ]
  },
  {
   "cell_type": "code",
   "execution_count": null,
   "id": "91321408",
   "metadata": {},
   "outputs": [],
   "source": [
    "crimelsoa_map = pd.merge(new_lsoa, newestcrime, on='LSOA11CD', left_index=False)"
   ]
  },
  {
   "cell_type": "code",
   "execution_count": null,
   "id": "92d9d326",
   "metadata": {},
   "outputs": [],
   "source": [
    "crime_imd_lsoa = pd.merge(crimelsoa_map, imd_df, on='LSOA11CD', left_index=False)"
   ]
  },
  {
   "cell_type": "code",
   "execution_count": null,
   "id": "b1751d1b",
   "metadata": {},
   "outputs": [],
   "source": [
    "crime_imd_lsoa['geometry'] = crime_imd_lsoa['geometry'].apply(lambda x: loads(x)) \n",
    "gdf = crime_imd_lsoa.set_geometry('geometry')"
   ]
  },
  {
   "cell_type": "code",
   "execution_count": null,
   "id": "f3739be1",
   "metadata": {},
   "outputs": [],
   "source": [
    "crimelsoa_map['geometry'] = crimelsoa_map['geometry'].apply(lambda x: loads(x)) \n",
    "gdf2 = crimelsoa_map.set_geometry('geometry')"
   ]
  },
  {
   "cell_type": "code",
   "execution_count": null,
   "id": "380227fb",
   "metadata": {},
   "outputs": [],
   "source": [
    "gdf2['avg2019_den'] = gdf2['avg_2019'] / gdf2['Area']\n",
    "gdf2['avg2020_den'] = gdf2['avg_2020'] / gdf2['Area']\n",
    "gdf2['avg2021_den'] = gdf2['avg_2021'] / gdf2['Area']\n",
    "gdf2['avg2019_prop'] = (gdf2['avg_2019'] / gdf2['USUALRES'])*100\n",
    "gdf2['avg2020_prop'] = (gdf2['avg_2020'] / gdf2['USUALRES'])*100\n",
    "gdf2['avg2021_prop'] = (gdf2['avg_2021'] / gdf2['USUALRES'])*100"
   ]
  },
  {
   "cell_type": "code",
   "execution_count": null,
   "id": "c5894f89",
   "metadata": {
    "scrolled": false
   },
   "outputs": [],
   "source": [
    "fig, ax1 = plt.subplots(1, figsize=(12,10))\n",
    "gdf2.plot(ax=ax1, \n",
    "         column= 'avg2019_prop', scheme= 'fisher_jenks', \n",
    "        cmap = pcs.Reds_7.mpl_colormap,\n",
    "        edgecolor='grey', linewidth=0.1,\n",
    "        legend=True,legend_kwds={'title': \" Crime Proportion(%)\",'loc': 'lower right'})\n",
    "plt.suptitle('Violent Crime Percentage in London 2019', size=20)\n",
    "plt.axis('off')\n",
    "ax1.annotate('Source: London Datastore (2022)',\n",
    "             xy=(0.1, 0.1), xycoords='figure fraction', \n",
    "             horizontalalignment='left', verticalalignment='top', \n",
    "             fontsize=12, color='#555555')\n",
    "plt.savefig(\"/Users/mahnoorshahzad/Documents/a3_year/ASDS/prop2019\", dpi= 300, bbox_inches= 'tight', facecolour=\"white\" )\n",
    "plt.show()\n",
    "\n",
    "fig, ax1 = plt.subplots(1, figsize=(12,10))\n",
    "gdf2.plot(ax=ax1, \n",
    "         column= 'avg2020_prop', scheme= 'fisher_jenks',\n",
    "        cmap = pcs.Reds_7.mpl_colormap,\n",
    "        edgecolor='grey', linewidth=0.1,\n",
    "        legend=True, legend_kwds={'title': \" Crime Proportion(%)\",'loc': 'lower right'})\n",
    "plt.suptitle('Violent Crime Percentage in London 2020', size=20)\n",
    "plt.axis('off')\n",
    "ax1.annotate('Source: London Datastore (2022)',\n",
    "             xy=(0.1, 0.1), xycoords='figure fraction', \n",
    "             horizontalalignment='left', verticalalignment='top', \n",
    "             fontsize=12, color='#555555')\n",
    "\n",
    "plt.savefig(\"/Users/mahnoorshahzad/Documents/a3_year/ASDS/prop2020\", dpi= 300, bbox_inches= 'tight', facecolour=\"white\" )\n",
    "plt.show()\n",
    "\n",
    "fig, ax1 = plt.subplots(1, figsize=(12,10))\n",
    "gdf2.plot(ax=ax1, \n",
    "         column= 'avg2021_prop', scheme= 'fisher_jenks',\n",
    "        cmap = pcs.Reds_7.mpl_colormap,\n",
    "        edgecolor='grey', linewidth=0.1,\n",
    "        legend=True, legend_kwds={'title': \" Crime Proportion(%)\",'loc': 'lower right'})\n",
    "plt.suptitle('Violent Crime Percentage in London 2021', size=20)\n",
    "plt.axis('off')\n",
    "ax1.annotate('Source: London Datastore (2022)',\n",
    "             xy=(0.1, 0.1), xycoords='figure fraction', \n",
    "             horizontalalignment='left', verticalalignment='top', \n",
    "             fontsize=12, color='#555555')\n",
    "plt.savefig(\"/Users/mahnoorshahzad/Documents/a3_year/ASDS/prop2021\", dpi= 300, bbox_inches= 'tight', facecolour=\"white\" )\n",
    "plt.show()"
   ]
  },
  {
   "cell_type": "code",
   "execution_count": null,
   "id": "98b557ea",
   "metadata": {
    "scrolled": false
   },
   "outputs": [],
   "source": [
    "fig, ax1 = plt.subplots(1, figsize=(12,10))\n",
    "gdf2.plot(ax=ax1, \n",
    "         column= 'avg2019_den', scheme= 'fisher_jenks', \n",
    "        cmap = pcs.Reds_7.mpl_colormap,\n",
    "        edgecolor='grey', linewidth=0.1,\n",
    "        legend=True)\n",
    "plt.suptitle('Violent Crime Density in London 2019', size=20)\n",
    "plt.axis('off')\n",
    "ax1.annotate('Source: London Datastore (2022)',\n",
    "             xy=(0.1, 0.1), xycoords='figure fraction', \n",
    "             horizontalalignment='left', verticalalignment='top', \n",
    "             fontsize=12, color='#555555')\n",
    "plt.savefig(\"/Users/mahnoorshahzad/Documents/a3_year/ASDS/den2019\", dpi= 300, bbox_inches= 'tight', facecolour=\"white\" )\n",
    "plt.show()\n",
    "\n",
    "fig, ax1 = plt.subplots(1, figsize=(12,10))\n",
    "gdf2.plot(ax=ax1, \n",
    "         column= 'avg2020_den', scheme= 'fisher_jenks',\n",
    "        cmap = pcs.Reds_7.mpl_colormap,\n",
    "        edgecolor='grey', linewidth=0.1,\n",
    "        legend=True)\n",
    "plt.suptitle('Violent Crime Density in London 2020', size=20)\n",
    "plt.axis('off')\n",
    "ax1.annotate('Source: London Datastore (2022)',\n",
    "             xy=(0.1, 0.1), xycoords='figure fraction', \n",
    "             horizontalalignment='left', verticalalignment='top', \n",
    "             fontsize=12, color='#555555')\n",
    "plt.savefig(\"/Users/mahnoorshahzad/Documents/a3_year/ASDS/den2020\", dpi= 300, bbox_inches= 'tight', facecolour=\"white\" )\n",
    "plt.show()\n",
    "\n",
    "fig, ax1 = plt.subplots(1, figsize=(12,10))\n",
    "gdf2.plot(ax=ax1, \n",
    "         column= 'avg2021_den', scheme= 'fisher_jenks',\n",
    "        cmap = pcs.Reds_7.mpl_colormap,\n",
    "        edgecolor='grey', linewidth=0.1,\n",
    "        legend=True)\n",
    "plt.suptitle('Violent Crime Density in London 2021', size=20)\n",
    "plt.axis('off')\n",
    "ax1.annotate('Source: London Datastore (2022)',\n",
    "             xy=(0.1, 0.1), xycoords='figure fraction', \n",
    "             horizontalalignment='left', verticalalignment='top', \n",
    "             fontsize=12, color='#555555')\n",
    "plt.savefig(\"/Users/mahnoorshahzad/Documents/a3_year/ASDS/den2021\", dpi= 300, bbox_inches= 'tight', facecolour=\"white\" )\n",
    "plt.show()"
   ]
  },
  {
   "cell_type": "code",
   "execution_count": null,
   "id": "549ee932",
   "metadata": {},
   "outputs": [],
   "source": [
    "import esda\n",
    "import pysal"
   ]
  },
  {
   "cell_type": "code",
   "execution_count": null,
   "id": "435072d4",
   "metadata": {},
   "outputs": [],
   "source": [
    "w = weights.KNN.from_dataframe(gdf, k=8) \n",
    "w.transform = 'R'\n",
    "moran = esda.moran.Moran(gdf['avg_2021'], w)"
   ]
  },
  {
   "cell_type": "code",
   "execution_count": null,
   "id": "749fe3f2",
   "metadata": {},
   "outputs": [],
   "source": [
    "gdf['avg_2021'].median()"
   ]
  },
  {
   "cell_type": "code",
   "execution_count": null,
   "id": "bb8d367e",
   "metadata": {},
   "outputs": [],
   "source": [
    "binary = gdf['avg_2021']> gdf['avg_2021'].median()\n",
    "sum(binary)"
   ]
  },
  {
   "cell_type": "code",
   "execution_count": null,
   "id": "d4776bf4",
   "metadata": {},
   "outputs": [],
   "source": [
    "labels = ['Low Price', 'High Price']\n",
    "binary = [labels[i] for i in 1*binary] \n",
    "gdf['binary'] = binary"
   ]
  },
  {
   "cell_type": "code",
   "execution_count": null,
   "id": "4cad1a58",
   "metadata": {},
   "outputs": [],
   "source": [
    "fig = plt.figure(figsize=(12,10))\n",
    "ax = plt.gca()\n",
    "gdf.plot(column='binary', cmap='binary', edgecolor='grey', legend=True, ax=ax)"
   ]
  },
  {
   "cell_type": "code",
   "execution_count": null,
   "id": "6b911047",
   "metadata": {},
   "outputs": [],
   "source": [
    "w_KNN1 = lps.weights.KNN.from_dataframe(gdf)"
   ]
  },
  {
   "cell_type": "code",
   "execution_count": null,
   "id": "dc24aac9",
   "metadata": {},
   "outputs": [],
   "source": [
    "from pysal.explore import esda \n",
    "binary = 1 * (gdf2['avg_2021']> gdf2['avg_2021'].median()) # convert back to binary\n",
    "w_KNN = lps.weights.KNN.from_dataframe(gdf2)\n",
    "w_KNN.transform = 'R'\n",
    "np.random.seed(12345)\n",
    "jc = esda.join_counts.Join_Counts(binary, w_KNN)"
   ]
  },
  {
   "cell_type": "code",
   "execution_count": null,
   "id": "72e6eda5",
   "metadata": {},
   "outputs": [],
   "source": [
    "jc.bb"
   ]
  },
  {
   "cell_type": "code",
   "execution_count": null,
   "id": "d4a83c9e",
   "metadata": {},
   "outputs": [],
   "source": [
    "jc.ww"
   ]
  },
  {
   "cell_type": "code",
   "execution_count": null,
   "id": "044c15b2",
   "metadata": {},
   "outputs": [],
   "source": [
    "jc.bw"
   ]
  },
  {
   "cell_type": "code",
   "execution_count": null,
   "id": "10838590",
   "metadata": {},
   "outputs": [],
   "source": [
    "jc.bb + jc.ww + jc.bw"
   ]
  },
  {
   "cell_type": "code",
   "execution_count": null,
   "id": "1c8509d6",
   "metadata": {},
   "outputs": [],
   "source": [
    "jc.p_sim_bb"
   ]
  },
  {
   "cell_type": "code",
   "execution_count": null,
   "id": "79b2ddbb",
   "metadata": {},
   "outputs": [],
   "source": [
    "w_KNN.s0 / 2"
   ]
  },
  {
   "cell_type": "code",
   "execution_count": null,
   "id": "b669a74e",
   "metadata": {},
   "outputs": [],
   "source": [
    "mi = esda.moran.Moran(gdf2['avg_2021'], w_KNN) # call moran function\n",
    "mi.I # print out the moran's I value"
   ]
  },
  {
   "cell_type": "code",
   "execution_count": null,
   "id": "09d33f86",
   "metadata": {},
   "outputs": [],
   "source": [
    "sns.kdeplot(mi.sim, shade=True)\n",
    "plt.vlines(mi.I, 0, 40, color='r')\n",
    "plt.vlines(mi.EI, 0, 40)\n",
    "plt.xlabel(\"Moran's I\")"
   ]
  },
  {
   "cell_type": "code",
   "execution_count": null,
   "id": "3fa9a008",
   "metadata": {},
   "outputs": [],
   "source": [
    "mi.p_sim"
   ]
  },
  {
   "cell_type": "code",
   "execution_count": null,
   "id": "bb73519c",
   "metadata": {},
   "outputs": [],
   "source": [
    "lisa = ps.explore.esda.Moran_Local(gdf2['avg_2021'].values, w_KNN, permutations=999)\n",
    "lisa.Is"
   ]
  },
  {
   "cell_type": "code",
   "execution_count": null,
   "id": "f9c2d140",
   "metadata": {},
   "outputs": [],
   "source": [
    "lisa.q"
   ]
  },
  {
   "cell_type": "code",
   "execution_count": null,
   "id": "36707a0b",
   "metadata": {},
   "outputs": [],
   "source": [
    "lisa.p_sim"
   ]
  },
  {
   "cell_type": "code",
   "execution_count": null,
   "id": "304724bf",
   "metadata": {},
   "outputs": [],
   "source": [
    "(lisa.p_sim < 0.05).sum()"
   ]
  },
  {
   "cell_type": "code",
   "execution_count": null,
   "id": "d26f9564",
   "metadata": {},
   "outputs": [],
   "source": [
    "from pysal import lib"
   ]
  },
  {
   "cell_type": "code",
   "execution_count": null,
   "id": "cbc853c5",
   "metadata": {},
   "outputs": [],
   "source": [
    "gdf2['lag_avg'] = ps.lib.weights.lag_spatial(w_KNN, gdf2['avg_2021'])\n",
    "sigs = gdf2['avg_2021'][lisa.p_sim <= .05]\n",
    "W_sigs = gdf2['lag_avg'][lisa.p_sim <= .05]\n",
    "insigs = gdf2['avg_2021'][lisa.p_sim > .05]\n",
    "W_insigs = gdf2['lag_avg'][lisa.p_sim > .05]"
   ]
  },
  {
   "cell_type": "code",
   "execution_count": null,
   "id": "c982e1e5",
   "metadata": {},
   "outputs": [],
   "source": [
    "gdf2['lag_avg'] = ps.lib.weights.lag_spatial(w_KNN, gdf2['avg_2020'])\n",
    "sigs = gdf2['avg_2020'][lisa.p_sim <= .05]\n",
    "W_sigs = gdf2['lag_avg'][lisa.p_sim <= .05]\n",
    "insigs = gdf2['avg_2020'][lisa.p_sim > .05]\n",
    "W_insigs = gdf2['lag_avg'][lisa.p_sim > .05]"
   ]
  },
  {
   "cell_type": "code",
   "execution_count": null,
   "id": "f407041d",
   "metadata": {},
   "outputs": [],
   "source": [
    "from splot.esda import lisa_cluster\n",
    "fig = lisa_cluster(lisa, gdf2)\n",
    "plt.title(\"LISA Cluster Map\")\n",
    "plt.show()"
   ]
  },
  {
   "cell_type": "code",
   "execution_count": null,
   "id": "5d933e4f",
   "metadata": {},
   "outputs": [],
   "source": [
    "sig = lisa.p_sim < 0.05\n",
    "hotspot = sig * lisa.q==1\n",
    "coldspot = sig * lisa.q==3\n",
    "doughnut = sig * lisa.q==2\n",
    "diamond = sig * lisa.q==4"
   ]
  },
  {
   "cell_type": "code",
   "execution_count": null,
   "id": "a8db0952",
   "metadata": {},
   "outputs": [],
   "source": [
    "f, ax = plt.subplots(1, figsize=(12, 8))\n",
    "# Plot building blocks\n",
    "gdf2.plot(ax=ax, facecolor='1', linewidth=0.1)\n",
    "# Plot HH clusters\n",
    "hh = gdf2.loc[(lisa.q==1) & (sig==True), 'geometry']\n",
    "hh.plot(ax=ax, color='red', linewidth=0.1, edgecolor='w')\n",
    "# Plot LL clusters\n",
    "ll = gdf2.loc[(lisa.q==3) & (sig==True), 'geometry']\n",
    "ll.plot(ax=ax, color='blue', linewidth=0.1, edgecolor='w')\n",
    "# Plot LH clusters\n",
    "lh = gdf2.loc[(lisa.q==2) & (sig==True), 'geometry']\n",
    "lh.plot(ax=ax, color='#83cef4', linewidth=0.1, edgecolor='w')\n",
    "# Plot HL clusters\n",
    "hl = gdf2.loc[(lisa.q==4) & (sig==True), 'geometry']\n",
    "hl.plot(ax=ax, color='pink', linewidth=0.1, edgecolor='w')\n",
    "# Non-significant\n",
    "ns = gdf2.loc[sig!=True, 'geometry']\n",
    "ns.plot(ax=ax, color='0.75', linewidth=0.1, edgecolor='w')\n",
    "# Style and draw\n",
    "f.suptitle('LISA for Average Crime in London 2021', size=20)\n",
    "f.set_facecolor('w')\n",
    "plt.axis('off')\n",
    "f.savefig(\"/Users/mahnoorshahzad/Documents/a3_year/ASDS/lisa2021\", dpi= 300, bbox_inches= 'tight', facecolour=\"white\" )\n",
    "plt.show()"
   ]
  },
  {
   "cell_type": "code",
   "execution_count": null,
   "id": "eaaf98e5",
   "metadata": {},
   "outputs": [],
   "source": [
    "gdf.hist('avg_2021')"
   ]
  },
  {
   "cell_type": "code",
   "execution_count": null,
   "id": "46e69061",
   "metadata": {},
   "outputs": [],
   "source": [
    "gdf.hist('imd_score')"
   ]
  },
  {
   "cell_type": "code",
   "execution_count": null,
   "id": "76f8be69",
   "metadata": {},
   "outputs": [],
   "source": [
    "gdf.hist('POPDEN')"
   ]
  },
  {
   "cell_type": "code",
   "execution_count": null,
   "id": "31756dbf",
   "metadata": {},
   "outputs": [],
   "source": [
    "gdf.hist('RoadsArea')"
   ]
  },
  {
   "cell_type": "code",
   "execution_count": null,
   "id": "5d089a7e",
   "metadata": {},
   "outputs": [],
   "source": [
    "gdf.hist('AVHHOLDSZ')"
   ]
  },
  {
   "cell_type": "code",
   "execution_count": null,
   "id": "cea7a73e",
   "metadata": {
    "scrolled": true
   },
   "outputs": [],
   "source": [
    "gdf.hist('emp_score')"
   ]
  },
  {
   "cell_type": "code",
   "execution_count": null,
   "id": "d08fe0e9",
   "metadata": {},
   "outputs": [],
   "source": [
    "gdf.hist('edu_score')"
   ]
  },
  {
   "cell_type": "code",
   "execution_count": null,
   "id": "1747f59b",
   "metadata": {},
   "outputs": [],
   "source": [
    "gdf['sqGreenspaceArea'] = np.sqrt(gdf['GreenspaceArea'])\n",
    "gdf.hist('GreenspaceArea')"
   ]
  },
  {
   "cell_type": "code",
   "execution_count": null,
   "id": "c2b2a27f",
   "metadata": {},
   "outputs": [],
   "source": [
    "gdf['logavg_2021'] = np.log(gdf['avg_2021'])\n",
    "gdf['sqPOPDEN'] = np.sqrt(gdf['POPDEN'])\n",
    "gdf['sqRoadsArea'] = np.sqrt(gdf['RoadsArea'])\n",
    "gdf['sqincome_score'] = np.sqrt(gdf['income_score'])\n",
    "gdf['sqedu_score'] = np.sqrt(gdf['edu_score'])"
   ]
  },
  {
   "cell_type": "code",
   "execution_count": null,
   "id": "6920618a",
   "metadata": {},
   "outputs": [],
   "source": [
    "gdf.shape"
   ]
  },
  {
   "cell_type": "code",
   "execution_count": null,
   "id": "0220669d",
   "metadata": {},
   "outputs": [],
   "source": [
    "from patsy import dmatrices\n",
    "from statsmodels.stats.outliers_influence import variance_inflation_factor\n",
    " \n",
    "y, X = dmatrices('logavg_2021 ~ sqedu_score  + sqRoadsArea + housing_score + sqPOPDEN + heathndis_score + living_score + emp_score + living_score + sqincome_score', data=gdf, return_type='dataframe')\n",
    "\n",
    "\n",
    "vif = pd.DataFrame()\n",
    "vif['VIF'] = [variance_inflation_factor(X.values, i) for i in range(X.shape[1])]\n",
    "vif['variable'] = X.columns\n",
    "\n",
    " \n",
    "vif"
   ]
  },
  {
   "cell_type": "code",
   "execution_count": null,
   "id": "06c9f7ea",
   "metadata": {},
   "outputs": [],
   "source": [
    "crime = gdf['logavg_2021']\n",
    "y = np.array(crime)\n",
    "y.shape = (len(crime),1)\n",
    "\n",
    "X= []\n",
    "\n",
    "X.append(gdf['sqedu_score'])\n",
    "X.append(gdf['sqRoadsArea']) \n",
    "X.append(gdf['sqPOPDEN']) \n",
    "X.append(gdf['housing_score']) \n",
    "X.append(gdf['emp_score'])\n",
    "X.append(gdf['heathndis_score'])\n",
    "X.append(gdf['living_score'])\n",
    "\n",
    "X = np.array(X).T"
   ]
  },
  {
   "cell_type": "code",
   "execution_count": null,
   "id": "3d7f52b7",
   "metadata": {},
   "outputs": [],
   "source": [
    "m1 = OLS(y, X, name_y='logavg_2021',\n",
    "         name_x=['sqedu_score','sqRoadsArea', 'sqPOPDEN', 'housing_score', 'emp_score', 'heathndis_score', 'living_score'], \n",
    "         name_ds='gdf')\n",
    "print(m1.summary)"
   ]
  },
  {
   "cell_type": "code",
   "execution_count": null,
   "id": "67c16ef4",
   "metadata": {},
   "outputs": [],
   "source": [
    "spat_err = ML_Error(y,X,w_KNN1, name_y='logavg_2021', \n",
    "                    name_x=['sqedu_score','sqRoadsArea', 'sqPOPDEN', 'housing_score', 'emp_score', 'heathndis_score', 'living_score'], \n",
    "                    name_w='w_KNN1', name_ds='gdf')\n",
    "print(spat_err.summary)"
   ]
  },
  {
   "cell_type": "code",
   "execution_count": null,
   "id": "3e32a620",
   "metadata": {},
   "outputs": [],
   "source": [
    "spat_lag = ML_Lag(y,X,w_KNN1,name_y='logavg_2021', \n",
    "                  name_x=['sqedu_score','sqRoadsArea', 'sqPOPDEN', 'housing_score', 'emp_score', 'heathndis_score', 'living_score' ],\n",
    "                  name_w='w_KNN1',\n",
    "                  name_ds='gdf')\n",
    "print(spat_lag.summary)"
   ]
  },
  {
   "cell_type": "code",
   "execution_count": null,
   "id": "c0a39eeb",
   "metadata": {},
   "outputs": [],
   "source": [
    "m1 = OLS(y, X, name_y='logavg_2021',\n",
    "         name_x=['sqedu_score','sqRoadsArea', 'sqPOPDEN', 'housing_score', 'emp_score', 'heathndis_score', 'living_score'], \n",
    "         name_ds='gdf')\n",
    "sl = ML_Lag(y,X,w_KNN1,name_y='logavg_2021', \n",
    "                  name_x=['sqedu_score','sqRoadsArea', 'sqPOPDEN', 'housing_score', 'emp_score', 'heathndis_score', 'living_score' ],\n",
    "                  name_w='w_KNN1',\n",
    "                  name_ds='gdf')\n",
    "se = ML_Error(y,X,w_KNN1, name_y='logavg_2021', \n",
    "                    name_x=['sqedu_score','sqRoadsArea', 'sqPOPDEN', 'housing_score', 'emp_score', 'heathndis_score', 'living_score'], \n",
    "                    name_w='w_KNN1', name_ds='gdf')"
   ]
  },
  {
   "cell_type": "code",
   "execution_count": null,
   "id": "8cbf0f5f",
   "metadata": {},
   "outputs": [],
   "source": [
    "from sklearn.metrics import mean_squared_error as mse\n",
    "\n",
    "mses = pd.Series({'OLS': mse(y, m1.predy.flatten()), \n",
    "                  'SL': mse(y, sl.predy.flatten()), \n",
    "                  'SE': mse(y, se.predy.flatten())\n",
    "                    })\n",
    "mses.sort_values()"
   ]
  },
  {
   "cell_type": "code",
   "execution_count": null,
   "id": "210ce7a0",
   "metadata": {},
   "outputs": [],
   "source": []
  }
 ],
 "metadata": {
  "kernelspec": {
   "display_name": "Python 3 (ipykernel)",
   "language": "python",
   "name": "python3"
  },
  "language_info": {
   "codemirror_mode": {
    "name": "ipython",
    "version": 3
   },
   "file_extension": ".py",
   "mimetype": "text/x-python",
   "name": "python",
   "nbconvert_exporter": "python",
   "pygments_lexer": "ipython3",
   "version": "3.8.10"
  }
 },
 "nbformat": 4,
 "nbformat_minor": 5
}
